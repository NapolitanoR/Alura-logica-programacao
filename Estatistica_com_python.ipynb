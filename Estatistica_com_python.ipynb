{
  "nbformat": 4,
  "nbformat_minor": 0,
  "metadata": {
    "colab": {
      "provenance": [],
      "authorship_tag": "ABX9TyPvetIA6NI7xWbCS9QCAwAU",
      "include_colab_link": true
    },
    "kernelspec": {
      "name": "python3",
      "display_name": "Python 3"
    },
    "language_info": {
      "name": "python"
    }
  },
  "cells": [
    {
      "cell_type": "markdown",
      "metadata": {
        "id": "view-in-github",
        "colab_type": "text"
      },
      "source": [
        "<a href=\"https://colab.research.google.com/github/NapolitanoR/Alura-logica-programacao/blob/main/Estatistica_com_python.ipynb\" target=\"_parent\"><img src=\"https://colab.research.google.com/assets/colab-badge.svg\" alt=\"Open In Colab\"/></a>"
      ]
    },
    {
      "cell_type": "code",
      "execution_count": 2,
      "metadata": {
        "id": "8ogpRYnTDMaG"
      },
      "outputs": [],
      "source": [
        "import pandas\n",
        "import numpy\n",
        "import seaborn\n",
        "import scipy"
      ]
    },
    {
      "cell_type": "code",
      "source": [
        "print ('versão do pandas -> %s' % pandas.__version__ )\n",
        "print ('versão do numpy -> %s' % numpy.__version__ )\n",
        "print ('versão do seaborn -> %s' % seaborn.__version__ )\n",
        "print ('versão do scipy -> %s' % scipy.__version__ )"
      ],
      "metadata": {
        "colab": {
          "base_uri": "https://localhost:8080/"
        },
        "id": "UJ-Q6HitDWDY",
        "outputId": "7e559a96-3aa3-4d03-920e-5edbaad9b111"
      },
      "execution_count": 4,
      "outputs": [
        {
          "output_type": "stream",
          "name": "stdout",
          "text": [
            "versão do pandas -> 1.5.3\n",
            "versão do numpy -> 1.23.5\n",
            "versão do seaborn -> 0.12.2\n",
            "versão do scipy -> 1.11.3\n"
          ]
        }
      ]
    },
    {
      "cell_type": "code",
      "source": [],
      "metadata": {
        "id": "f8Qwa-zdDqdv"
      },
      "execution_count": null,
      "outputs": []
    }
  ]
}